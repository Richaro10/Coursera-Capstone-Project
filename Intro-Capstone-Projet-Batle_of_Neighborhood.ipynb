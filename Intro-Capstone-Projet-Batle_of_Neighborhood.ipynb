{
    "nbformat_minor": 1, 
    "cells": [
        {
            "source": "# Coursera Final Capstone for IBM Datascience Professionals\n### Bathe of Neighboarhoord: Comparative Analysis of two Finacials districts Neighboarhood (Dwontown Toronto/Canada and Manhattan/USA)", 
            "cell_type": "markdown", 
            "metadata": {
                "collapsed": true
            }
        }, 
        {
            "source": "## Introduction: The Idea <a name=\"introduction\"></a>", 
            "cell_type": "markdown", 
            "metadata": {}
        }, 
        {
            "source": "In This project i will make a comparative analysis beetween two Financial Districts in the world. The key question will be how are their Neighborhodd are structured and diversify:\n\n* **What Level of diversity?** Throught inertia of clusters and number of possible clusters we will analyse the 2 places Naighorhood.\n* **What structure?** Throught the caracteristics of the cluster we could say how the Neighboardhoo is structured?\n\nOn a final i will discuss the result and open perspectives for other further analysis.", 
            "cell_type": "markdown", 
            "metadata": {}
        }
    ], 
    "metadata": {
        "kernelspec": {
            "display_name": "Python 3.5", 
            "name": "python3", 
            "language": "python"
        }, 
        "language_info": {
            "mimetype": "text/x-python", 
            "nbconvert_exporter": "python", 
            "version": "3.5.5", 
            "name": "python", 
            "pygments_lexer": "ipython3", 
            "file_extension": ".py", 
            "codemirror_mode": {
                "version": 3, 
                "name": "ipython"
            }
        }
    }, 
    "nbformat": 4
}